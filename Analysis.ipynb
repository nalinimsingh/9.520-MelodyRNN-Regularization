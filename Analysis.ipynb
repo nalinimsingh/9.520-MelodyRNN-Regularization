{
 "cells": [
  {
   "cell_type": "code",
   "execution_count": 1,
   "metadata": {
    "collapsed": true
   },
   "outputs": [],
   "source": [
    "import tensorflow as tf"
   ]
  },
  {
   "cell_type": "code",
   "execution_count": 10,
   "metadata": {},
   "outputs": [
    {
     "name": "stdout",
     "output_type": "stream",
     "text": [
      "INFO:tensorflow:Restoring parameters from /tmp/melody_rnn/logdir/train-model/train/model.ckpt-27783\n"
     ]
    }
   ],
   "source": [
    "# Restore session\n",
    "tf.reset_default_graph()\n",
    "\n",
    "sess=tf.Session() \n",
    "saver = tf.train.import_meta_graph('/tmp/melody_rnn/logdir/train-model/train/model.ckpt-27783.meta')\n",
    "saver.restore(sess,tf.train.latest_checkpoint('/tmp/melody_rnn/logdir/train-model/train/'))"
   ]
  },
  {
   "cell_type": "code",
   "execution_count": null,
   "metadata": {
    "collapsed": true
   },
   "outputs": [],
   "source": []
  }
 ],
 "metadata": {
  "anaconda-cloud": {},
  "kernelspec": {
   "display_name": "Python [conda root]",
   "language": "python",
   "name": "conda-root-py"
  },
  "language_info": {
   "codemirror_mode": {
    "name": "ipython",
    "version": 2
   },
   "file_extension": ".py",
   "mimetype": "text/x-python",
   "name": "python",
   "nbconvert_exporter": "python",
   "pygments_lexer": "ipython2",
   "version": "2.7.12"
  }
 },
 "nbformat": 4,
 "nbformat_minor": 2
}
